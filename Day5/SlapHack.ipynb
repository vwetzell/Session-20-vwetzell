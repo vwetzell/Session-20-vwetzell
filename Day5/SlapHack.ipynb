{
 "cells": [
  {
   "cell_type": "code",
   "execution_count": 27,
   "id": "2ba158de-7453-44a5-b45c-771bfccea16e",
   "metadata": {},
   "outputs": [],
   "source": [
    "import numpy as np\n",
    "import matplotlib.pyplot as plt\n",
    "\n",
    "cards = np.arange(52)\n",
    "\n",
    "shuffle = np.random.choice(cards,size=52,replace=False)\n",
    "\n",
    "As = {0,1,2,3}\n",
    "Ks = {4,5,6,7}\n",
    "Qs = {8,9,10,11}\n",
    "Js = {12,13,14,15}\n",
    "\n",
    "face_cards = As.union(Ks,Qs,Js)\n",
    "\n",
    "n_players = 4\n",
    "\n",
    "player_decks = {i:shuffle[i*52//n_players:(i+1)*52//n_players] for i in range(n_players)}\n",
    "\n",
    "stack = []\n",
    "\n",
    "while \n",
    "for player in range(n_players):\n",
    "    if len(player_decks[player])>0:\n",
    "        stack.append(player_decks[player][0])\n",
    "        player_decks[player] = player_decks[player][1:]\n",
    "    \n"
   ]
  },
  {
   "cell_type": "code",
   "execution_count": 28,
   "id": "da30fec3-16bf-4403-ab92-ac07f1c291be",
   "metadata": {},
   "outputs": [
    {
     "data": {
      "text/plain": [
       "[26, 11, 0, 47]"
      ]
     },
     "execution_count": 28,
     "metadata": {},
     "output_type": "execute_result"
    }
   ],
   "source": [
    "stack"
   ]
  },
  {
   "cell_type": "code",
   "execution_count": 32,
   "id": "77d30b5f-5574-4c7c-b24c-f0928bb4a99c",
   "metadata": {},
   "outputs": [
    {
     "data": {
      "text/plain": [
       "48"
      ]
     },
     "execution_count": 32,
     "metadata": {},
     "output_type": "execute_result"
    }
   ],
   "source": [
    "[len(player_decks[player]) for player in range(n_players)]"
   ]
  },
  {
   "cell_type": "code",
   "execution_count": null,
   "id": "0287b2b9-14e9-4550-9392-051971911e7a",
   "metadata": {},
   "outputs": [],
   "source": []
  }
 ],
 "metadata": {
  "kernelspec": {
   "display_name": "Python 3 (ipykernel)",
   "language": "python",
   "name": "python3"
  },
  "language_info": {
   "codemirror_mode": {
    "name": "ipython",
    "version": 3
   },
   "file_extension": ".py",
   "mimetype": "text/x-python",
   "name": "python",
   "nbconvert_exporter": "python",
   "pygments_lexer": "ipython3",
   "version": "3.10.2"
  }
 },
 "nbformat": 4,
 "nbformat_minor": 5
}
